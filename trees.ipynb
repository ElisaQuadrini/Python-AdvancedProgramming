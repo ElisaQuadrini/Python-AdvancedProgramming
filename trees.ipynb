{
 "cells": [
  {
   "cell_type": "markdown",
   "metadata": {
    "id": "X_e9SuEv5YW9"
   },
   "source": [
    "# **Binary Search Trees**"
   ]
  },
  {
   "cell_type": "code",
   "execution_count": 1,
   "metadata": {
    "executionInfo": {
     "elapsed": 10,
     "status": "ok",
     "timestamp": 1664873526232,
     "user": {
      "displayName": "Andrea Pozzi",
      "userId": "14271893929506141932"
     },
     "user_tz": -120
    },
    "id": "hS5-PU965Wx1"
   },
   "outputs": [],
   "source": [
    "class Node ():\n",
    "  def __init__(self, data):\n",
    "    self.data = data\n",
    "    self.right = None\n",
    "    self.left = None\n",
    "\n",
    "class BinarySearchTree():\n",
    "  def __init__(self):\n",
    "    self.root = None\n",
    "    self.size = 0\n",
    "  \n",
    "  def print(self):\n",
    "\n",
    "    def print_tree(node, level = 0):\n",
    "      if node != None:\n",
    "          print_tree(node.right, level + 1) \n",
    "          print(\" \" * 7 * level + \"-> \" + str(node.data))\n",
    "          print_tree(node.left, level + 1)\n",
    "\n",
    "    print_tree(self.root)\n",
    "\n",
    "\n",
    "\n",
    "  def insert(self, data):\n",
    "\n",
    "    new_node = Node(data)\n",
    "\n",
    "    if self.root is None:\n",
    "      self.root = new_node\n",
    "      self.size +=1\n",
    "      return True\n",
    "    \n",
    "    temp = self.root\n",
    "    while True:\n",
    "      if data < temp.data:\n",
    "        if temp.left is None:\n",
    "          temp.left = new_node\n",
    "          self.size +=1\n",
    "          return True\n",
    "        temp = temp.left\n",
    "\n",
    "      elif data > temp.data:\n",
    "        if temp.right is None:\n",
    "          temp.right = new_node\n",
    "          self.size +=1\n",
    "          return True\n",
    "        temp = temp.right\n",
    "\n",
    "      else:\n",
    "        return False\n",
    "\n",
    "\n",
    "\n",
    "  def contains(self, data):\n",
    "\n",
    "    if self.root is None:\n",
    "      return False\n",
    "\n",
    "    temp = self.root\n",
    "    while temp is not None:\n",
    "      if data < temp.data:\n",
    "        temp = temp.left\n",
    "      elif data > temp.data:\n",
    "        temp = temp.right\n",
    "      else: \n",
    "        return True\n",
    "    \n",
    "    return False\n",
    "\n",
    "\n",
    "  def find_min(self):\n",
    "    if self.root is None:\n",
    "      return None\n",
    "\n",
    "    temp = self.root\n",
    "\n",
    "    while temp.left is not None:\n",
    "      temp = temp.left\n",
    "\n",
    "    return temp.data\n",
    "\n",
    "\n",
    "\n"
   ]
  },
  {
   "cell_type": "code",
   "execution_count": 2,
   "metadata": {
    "colab": {
     "base_uri": "https://localhost:8080/"
    },
    "executionInfo": {
     "elapsed": 9,
     "status": "ok",
     "timestamp": 1664873526233,
     "user": {
      "displayName": "Andrea Pozzi",
      "userId": "14271893929506141932"
     },
     "user_tz": -120
    },
    "id": "2jckh623gjBC",
    "outputId": "7a661fb8-93e0-412f-d2ad-030d033522ba"
   },
   "outputs": [
    {
     "name": "stdout",
     "output_type": "stream",
     "text": [
      "              -> 98\n",
      "                                   -> 94\n",
      "                            -> 93\n",
      "                     -> 90\n",
      "                                          -> 84\n",
      "                                   -> 68\n",
      "                            -> 64\n",
      "       -> 58\n",
      "                            -> 55\n",
      "                     -> 50\n",
      "                            -> 44\n",
      "                                   -> 33\n",
      "              -> 22\n",
      "-> 18\n",
      "              -> 15\n",
      "       -> 14\n",
      "              -> 10\n",
      "                     -> 6\n"
     ]
    }
   ],
   "source": [
    "# fill the tree with random integers\n",
    "import random\n",
    "random.seed(100)\n",
    "bst = BinarySearchTree()\n",
    "\n",
    "for i in range(20):\n",
    "  bst.insert(random.randint(0, 100))\n",
    "\n",
    "bst.print()"
   ]
  },
  {
   "cell_type": "code",
   "execution_count": 3,
   "metadata": {
    "colab": {
     "base_uri": "https://localhost:8080/"
    },
    "executionInfo": {
     "elapsed": 336,
     "status": "ok",
     "timestamp": 1664873530751,
     "user": {
      "displayName": "Andrea Pozzi",
      "userId": "14271893929506141932"
     },
     "user_tz": -120
    },
    "id": "qHrcZIQfnZtH",
    "outputId": "f8ae243f-053a-4e90-8d44-d4eb856747a2"
   },
   "outputs": [
    {
     "data": {
      "text/plain": [
       "True"
      ]
     },
     "execution_count": 3,
     "metadata": {},
     "output_type": "execute_result"
    }
   ],
   "source": [
    "#check if the tree contains the value 22\n",
    "bst.contains(22)"
   ]
  },
  {
   "cell_type": "code",
   "execution_count": 4,
   "metadata": {
    "colab": {
     "base_uri": "https://localhost:8080/"
    },
    "executionInfo": {
     "elapsed": 6,
     "status": "ok",
     "timestamp": 1664873531012,
     "user": {
      "displayName": "Andrea Pozzi",
      "userId": "14271893929506141932"
     },
     "user_tz": -120
    },
    "id": "cvT7QrYVr8SD",
    "outputId": "79075145-288f-4ef2-fdd1-79b6e0457ba8"
   },
   "outputs": [
    {
     "data": {
      "text/plain": [
       "False"
      ]
     },
     "execution_count": 4,
     "metadata": {},
     "output_type": "execute_result"
    }
   ],
   "source": [
    "#check if the tree contains the value 83\n",
    "bst.contains(83)"
   ]
  },
  {
   "cell_type": "code",
   "execution_count": 5,
   "metadata": {
    "colab": {
     "base_uri": "https://localhost:8080/"
    },
    "executionInfo": {
     "elapsed": 4,
     "status": "ok",
     "timestamp": 1664873531828,
     "user": {
      "displayName": "Andrea Pozzi",
      "userId": "14271893929506141932"
     },
     "user_tz": -120
    },
    "id": "Wa1KstsIsDtI",
    "outputId": "e8c15924-fbbe-48ca-ea96-7ad57c972fb9"
   },
   "outputs": [
    {
     "data": {
      "text/plain": [
       "6"
      ]
     },
     "execution_count": 5,
     "metadata": {},
     "output_type": "execute_result"
    }
   ],
   "source": [
    "#find the minum\n",
    "bst.find_min()"
   ]
  },
  {
   "cell_type": "code",
   "execution_count": null,
   "metadata": {
    "id": "H0z7SS3wtcf5"
   },
   "outputs": [],
   "source": []
  }
 ],
 "metadata": {
  "colab": {
   "authorship_tag": "ABX9TyMHoJPuEqp5UDA7hHvE32mZ",
   "collapsed_sections": [],
   "provenance": []
  },
  "kernelspec": {
   "display_name": "Python 3",
   "name": "python3"
  },
  "language_info": {
   "name": "python"
  }
 },
 "nbformat": 4,
 "nbformat_minor": 0
}
