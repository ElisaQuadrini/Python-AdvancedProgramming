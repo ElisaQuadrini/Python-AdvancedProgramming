{
 "cells": [
  {
   "cell_type": "markdown",
   "metadata": {
    "id": "yrHauHB3J6KU"
   },
   "source": [
    "# **Stacks**"
   ]
  },
  {
   "cell_type": "code",
   "execution_count": null,
   "metadata": {
    "id": "0_Mg2IG_J5V7"
   },
   "outputs": [],
   "source": [
    "class Node():\n",
    "  def __init__(self, data):\n",
    "    self.data = data\n",
    "    self.next = None"
   ]
  },
  {
   "cell_type": "code",
   "execution_count": null,
   "metadata": {
    "id": "zP78wDiDK5-v"
   },
   "outputs": [],
   "source": [
    "class Stack():\n",
    "  def __init__(self):\n",
    "    self.top = None\n",
    "    self.height = 0\n",
    "\n",
    "  def print(self):\n",
    "    temp = self.top\n",
    "    for _ in range(self.height):\n",
    "      print('__', end=' ')\n",
    "    print('\\n')\n",
    "    while temp is not None:\n",
    "      print(temp.data, end=', ')\n",
    "      temp = temp.next\n",
    "    print('|')\n",
    "    for _ in range(self.height):\n",
    "      print('__', end=' ')\n",
    "\n",
    "  def push(self, data):\n",
    "    new_node = Node(data)\n",
    "    if self.height == 0:\n",
    "      self.top = new_node\n",
    "    else:\n",
    "      new_node.next = self.top\n",
    "      self.top = new_node\n",
    "    self.height += 1\n",
    "\n",
    "\n",
    "  def pop(self):\n",
    "    if self.height==0:\n",
    "      return None\n",
    "\n",
    "    else:\n",
    "      temp = self.top\n",
    "      self.top = temp.next\n",
    "      temp.next = None\n",
    "\n",
    "    self.height -= 1\n",
    "    return temp\n"
   ]
  },
  {
   "cell_type": "markdown",
   "metadata": {
    "id": "fLnkEbC9m9zi"
   },
   "source": [
    "Create the stack and fill it with elements to test the push method:"
   ]
  },
  {
   "cell_type": "code",
   "execution_count": null,
   "metadata": {
    "colab": {
     "base_uri": "https://localhost:8080/"
    },
    "id": "g2Nfpl3_LzKM",
    "outputId": "3afbde02-dc3e-4c08-e8f0-3f7b1573b258"
   },
   "outputs": [
    {
     "name": "stdout",
     "output_type": "stream",
     "text": [
      "__ __ __ __ \n",
      "\n",
      "9, 4, 1, 0, |\n",
      "__ __ __ __ "
     ]
    }
   ],
   "source": [
    "s = Stack()\n",
    "for i in range(4):\n",
    "  s.push(i**2)\n",
    "s.print()"
   ]
  },
  {
   "cell_type": "markdown",
   "metadata": {
    "id": "xiHRNSS40IKH"
   },
   "source": [
    "Test the pop method:"
   ]
  },
  {
   "cell_type": "code",
   "execution_count": null,
   "metadata": {
    "colab": {
     "base_uri": "https://localhost:8080/"
    },
    "id": "jMDqzMelz2zA",
    "outputId": "ed0c49eb-834e-4374-a1ec-5a5ac6aa2f81"
   },
   "outputs": [
    {
     "name": "stdout",
     "output_type": "stream",
     "text": [
      "We popped an element with value 9\n",
      "__ __ __ \n",
      "\n",
      "4, 1, 0, |\n",
      "__ __ __ "
     ]
    }
   ],
   "source": [
    "popped_element = s.pop()\n",
    "\n",
    "print(f'We popped an element with value {popped_element.data}')\n",
    "s.print()"
   ]
  },
  {
   "cell_type": "markdown",
   "metadata": {
    "id": "iDe067RGxTiw"
   },
   "source": [
    "## **Pointers with Stacks**"
   ]
  },
  {
   "cell_type": "markdown",
   "metadata": {
    "id": "26SHXL4q0SVG"
   },
   "source": [
    "Fill a stack:"
   ]
  },
  {
   "cell_type": "code",
   "execution_count": null,
   "metadata": {
    "colab": {
     "base_uri": "https://localhost:8080/"
    },
    "id": "prJZ_EEh0QNR",
    "outputId": "d8b83d57-749b-41f4-b01c-d3f8181a673e"
   },
   "outputs": [
    {
     "name": "stdout",
     "output_type": "stream",
     "text": [
      "__ __ __ __ \n",
      "\n",
      "9, 4, 1, 0, |\n",
      "__ __ __ __ "
     ]
    }
   ],
   "source": [
    "s = Stack()\n",
    "for i in range(4):\n",
    "  s.push(i**2)\n",
    "s.print()"
   ]
  },
  {
   "cell_type": "markdown",
   "metadata": {
    "id": "mdBqZ5CDnFba"
   },
   "source": [
    "Showing that the top of stack and the .next of a node are pointers to a memory cell in which there is a Node object:\n",
    "\n"
   ]
  },
  {
   "cell_type": "code",
   "execution_count": null,
   "metadata": {
    "colab": {
     "base_uri": "https://localhost:8080/"
    },
    "id": "-qTQrSZSL0w8",
    "outputId": "4b098e05-af45-4e62-9e65-9e0be0c11a25"
   },
   "outputs": [
    {
     "name": "stdout",
     "output_type": "stream",
     "text": [
      "s.top is: <__main__.Node object at 0x7efe9bac48d0>\n",
      "s.top is: <__main__.Node object at 0x7efe9bac41d0>\n"
     ]
    }
   ],
   "source": [
    "print(f's.top is: {s.top}')\n",
    "print(f's.top is: {s.top.next}')"
   ]
  },
  {
   "cell_type": "code",
   "execution_count": null,
   "metadata": {
    "colab": {
     "base_uri": "https://localhost:8080/"
    },
    "id": "M7A7VL7Jnm0Q",
    "outputId": "fc8bec6a-de19-4632-bc0b-49e8eb8e6888"
   },
   "outputs": [
    {
     "name": "stdout",
     "output_type": "stream",
     "text": [
      "temp is: <__main__.Node object at 0x7efe9bac41d0>\n"
     ]
    }
   ],
   "source": [
    "#the variable temp point to the same object as the variable s.top.next:\n",
    "temp = s.top.next\n",
    "print(f'temp is: {temp}')"
   ]
  },
  {
   "cell_type": "code",
   "execution_count": null,
   "metadata": {
    "colab": {
     "base_uri": "https://localhost:8080/"
    },
    "id": "-DlNmaoqoQgp",
    "outputId": "cfc25415-4047-4177-c0fc-dd8097b96c69"
   },
   "outputs": [
    {
     "name": "stdout",
     "output_type": "stream",
     "text": [
      "The address of temp.data is: 11122688\n",
      "The address of s.top.next.data is: 11122688\n"
     ]
    }
   ],
   "source": [
    "print(f'The address of temp.data is: {id(temp.data)}')\n",
    "print(f'The address of s.top.next.data is: {id(s.top.next.data)}')"
   ]
  },
  {
   "cell_type": "code",
   "execution_count": null,
   "metadata": {
    "colab": {
     "base_uri": "https://localhost:8080/"
    },
    "id": "7NQY4QkRoSIQ",
    "outputId": "a3b9c6df-95e1-4713-ced4-2f78d105056d"
   },
   "outputs": [
    {
     "name": "stdout",
     "output_type": "stream",
     "text": [
      "New value of s.top.next.data: 56\n",
      "__ __ __ __ \n",
      "\n",
      "9, 56, 1, 0, |\n",
      "__ __ __ __ "
     ]
    }
   ],
   "source": [
    "# If I modify temp.data, I get that also s.top.next.data is modified:\n",
    "temp.data = 56\n",
    "print(f'New value of s.top.next.data: {s.top.next.data}')\n",
    "s.print()"
   ]
  }
 ],
 "metadata": {
  "colab": {
   "provenance": []
  },
  "kernelspec": {
   "display_name": "Python 3",
   "name": "python3"
  },
  "language_info": {
   "name": "python"
  }
 },
 "nbformat": 4,
 "nbformat_minor": 0
}
