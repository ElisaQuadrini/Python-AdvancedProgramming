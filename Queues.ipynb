{
 "cells": [
  {
   "cell_type": "markdown",
   "metadata": {
    "id": "0MqNe02S6o19"
   },
   "source": [
    "# **Queues**"
   ]
  },
  {
   "cell_type": "code",
   "execution_count": null,
   "metadata": {
    "id": "Gk50hvRH2jpG"
   },
   "outputs": [],
   "source": [
    "class Node():\n",
    "  def __init__(self, data):\n",
    "    self.data = data\n",
    "    self.next = None\n"
   ]
  },
  {
   "cell_type": "code",
   "execution_count": null,
   "metadata": {
    "id": "RJSyy-wSLsFC"
   },
   "outputs": [],
   "source": [
    "class Queue():\n",
    "  def __init__(self):\n",
    "    self.first = None\n",
    "    self.last = None\n",
    "    self.length = 0\n",
    "\n",
    "  def print(self):\n",
    "    print('\\t', end='')\n",
    "    for _ in range(self.length):\n",
    "      print('__', end=' ')\n",
    "    print('\\n')\n",
    "    print('<-\\t', end ='')\n",
    "    temp = self.first\n",
    "    while temp is not None:\n",
    "      print(temp.data, end=', ')\n",
    "      temp = temp.next\n",
    "    print('\\t<-\\n')\n",
    "    print('\\t', end='')\n",
    "    for _ in range(self.length):\n",
    "      print('__', end=' ')\n",
    "\n",
    "  def enque(self, data):\n",
    "    new_node = Node(data)\n",
    "    if self.length==0:\n",
    "      self.first = new_node\n",
    "      self.last = new_node\n",
    "    else:\n",
    "      self.last.next = new_node\n",
    "      self.last = new_node\n",
    "    self.length += 1\n",
    "\n",
    "  def deque(self):\n",
    "\n",
    "    if self.length==0:\n",
    "      return None\n",
    "\n",
    "    temp = self.first\n",
    "    if self.length == 1:\n",
    "      self.first = None\n",
    "      self.last = None\n",
    "    else:\n",
    "      self.first = temp.next\n",
    "      temp.next = None\n",
    "    self.length -= 1\n",
    "\n",
    "    return temp\n",
    "\n"
   ]
  },
  {
   "cell_type": "code",
   "execution_count": null,
   "metadata": {
    "colab": {
     "base_uri": "https://localhost:8080/"
    },
    "id": "j3hiwOnaMwMo",
    "outputId": "0e30794f-ad4e-43ea-fb0e-a24e1dde6ce2"
   },
   "outputs": [
    {
     "name": "stdout",
     "output_type": "stream",
     "text": [
      "\t__ __ __ __ \n",
      "\n",
      "<-\t0, 1, 4, 9, \t<-\n",
      "\n",
      "\t__ __ __ __ "
     ]
    }
   ],
   "source": [
    "q = Queue()\n",
    "for i in range(4):\n",
    "  q.enque(i**2)\n",
    "q.print()"
   ]
  },
  {
   "cell_type": "code",
   "execution_count": null,
   "metadata": {
    "colab": {
     "base_uri": "https://localhost:8080/"
    },
    "id": "8aLNMIkaNu3Z",
    "outputId": "36903ea2-83b7-4a2e-9cad-0c0ee5a5c1ab"
   },
   "outputs": [
    {
     "name": "stdout",
     "output_type": "stream",
     "text": [
      "The next in line is 0\n",
      "\t__ __ __ \n",
      "\n",
      "<-\t1, 4, 9, \t<-\n",
      "\n",
      "\t__ __ __ "
     ]
    }
   ],
   "source": [
    "#Check the next in line:\n",
    "next_in_line = q.deque()\n",
    "print(f'The next in line is {next_in_line.data}')\n",
    "q.print()"
   ]
  }
 ],
 "metadata": {
  "colab": {
   "provenance": []
  },
  "kernelspec": {
   "display_name": "Python 3",
   "name": "python3"
  },
  "language_info": {
   "name": "python"
  }
 },
 "nbformat": 4,
 "nbformat_minor": 0
}
