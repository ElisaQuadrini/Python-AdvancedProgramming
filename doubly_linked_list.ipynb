{
 "cells": [
  {
   "cell_type": "markdown",
   "metadata": {
    "id": "HEYunqMgnyqF"
   },
   "source": [
    "# **Nodes and Pointers**"
   ]
  },
  {
   "cell_type": "code",
   "execution_count": 1,
   "metadata": {
    "executionInfo": {
     "elapsed": 545,
     "status": "ok",
     "timestamp": 1727519475721,
     "user": {
      "displayName": "Andrea Pozzi",
      "userId": "14271893929506141932"
     },
     "user_tz": -120
    },
    "id": "VZ-LAC4wn9wk"
   },
   "outputs": [],
   "source": [
    "class Node:\n",
    "  def __init__(self, data):\n",
    "    self.data = data\n",
    "    self.next = None\n",
    "    self.prev = None"
   ]
  },
  {
   "cell_type": "code",
   "execution_count": 2,
   "metadata": {
    "colab": {
     "base_uri": "https://localhost:8080/",
     "height": 0
    },
    "executionInfo": {
     "elapsed": 5,
     "status": "ok",
     "timestamp": 1727519476168,
     "user": {
      "displayName": "Andrea Pozzi",
      "userId": "14271893929506141932"
     },
     "user_tz": -120
    },
    "id": "XyQeLunHn-jr",
    "outputId": "4a1af9ed-07c3-4583-8fcf-cfa1b1698b1e"
   },
   "outputs": [
    {
     "name": "stdout",
     "output_type": "stream",
     "text": [
      "Node 1 is: <__main__.Node object at 0x7c1efc074430>\n",
      "Node 2 is: <__main__.Node object at 0x7c1efc074910>\n",
      "Node 3 is: <__main__.Node object at 0x7c1efc074430>\n"
     ]
    }
   ],
   "source": [
    "node1 = Node(7)\n",
    "node2 = Node(7)\n",
    "node3 = node1\n",
    "\n",
    "# node1 and node3 are (pointers to / alias of) the same object in memory\n",
    "print(f'Node 1 is: {node1}')\n",
    "print(f'Node 2 is: {node2}')\n",
    "print(f'Node 3 is: {node3}')"
   ]
  },
  {
   "cell_type": "code",
   "execution_count": 3,
   "metadata": {
    "colab": {
     "base_uri": "https://localhost:8080/",
     "height": 0
    },
    "executionInfo": {
     "elapsed": 4,
     "status": "ok",
     "timestamp": 1727519476169,
     "user": {
      "displayName": "Andrea Pozzi",
      "userId": "14271893929506141932"
     },
     "user_tz": -120
    },
    "id": "vHbYGBHcR2jj",
    "outputId": "e78ee1a1-592e-415c-bc2d-0b18cdf3d262"
   },
   "outputs": [
    {
     "name": "stdout",
     "output_type": "stream",
     "text": [
      "Node 1 now contains the value 54\n"
     ]
    }
   ],
   "source": [
    "# modigying the data value in node3 modifies also the one in node1\n",
    "# since we are modifying the data field of the object in memory\n",
    "node3.data = 54\n",
    "print(f'Node 1 now contains the value {node1.data}')"
   ]
  },
  {
   "cell_type": "code",
   "execution_count": 4,
   "metadata": {
    "colab": {
     "base_uri": "https://localhost:8080/",
     "height": 0
    },
    "executionInfo": {
     "elapsed": 3,
     "status": "ok",
     "timestamp": 1727519476169,
     "user": {
      "displayName": "Andrea Pozzi",
      "userId": "14271893929506141932"
     },
     "user_tz": -120
    },
    "id": "tYmo6Ln3STYH",
    "outputId": "b8653382-1dd8-417f-c04c-335fb436ab04"
   },
   "outputs": [
    {
     "name": "stdout",
     "output_type": "stream",
     "text": [
      "<__main__.Node object at 0x7c1efc074430>\n",
      "<__main__.Node object at 0x7c1efc0745e0>\n"
     ]
    }
   ],
   "source": [
    "# if we assign an other object to node3, the result is that node3 is not an alias of node1 anymore\n",
    "node3 = Node(83)\n",
    "print(node1) #node1 is unmodified\n",
    "print(node3) #node3 points to a new object in memory"
   ]
  },
  {
   "cell_type": "markdown",
   "metadata": {
    "id": "KQUigcIDeEj_"
   },
   "source": [
    "# **Doubly Linked List**"
   ]
  },
  {
   "cell_type": "code",
   "execution_count": 5,
   "metadata": {
    "executionInfo": {
     "elapsed": 3,
     "status": "ok",
     "timestamp": 1727519476169,
     "user": {
      "displayName": "Andrea Pozzi",
      "userId": "14271893929506141932"
     },
     "user_tz": -120
    },
    "id": "jQkWaacCeKxt"
   },
   "outputs": [],
   "source": [
    "class DoublyLinkedList():\n",
    "  def __init__(self):\n",
    "\n",
    "    self.head = None\n",
    "    self.tail = None\n",
    "    self.length = 0\n",
    "\n",
    "  def __str__(self):\n",
    "    temp = self.head\n",
    "    s = '['\n",
    "    while temp is not None:\n",
    "      s = s + str(temp.data) + ', '\n",
    "      temp = temp.next\n",
    "    s = s + ']'\n",
    "    return s\n",
    "\n",
    "  def get_length(self):\n",
    "    return self.length()\n",
    "\n",
    "  # get the length of a doubly linked list\n",
    "  def print(self):\n",
    "\n",
    "    temp = self.head\n",
    "\n",
    "    print('[', end='')\n",
    "    while temp is not None:\n",
    "      print(temp.data, end=', ')\n",
    "      temp = temp.next\n",
    "    print(']')\n",
    "\n",
    "  #Add an element at the end of the doubly linked list\n",
    "  def append(self, data):\n",
    "\n",
    "    new_node = Node(data)\n",
    "\n",
    "    if self.length == 0: # corner case in which the list is empty\n",
    "      self.head = new_node\n",
    "      self.tail = new_node\n",
    "\n",
    "    else:\n",
    "      self.tail.next = new_node\n",
    "      new_node.prev = self.tail\n",
    "      self.tail = new_node\n",
    "\n",
    "    self.length += 1\n",
    "\n",
    "  #Remove an element from the end of the doubly linked list\n",
    "  def pop(self):\n",
    "\n",
    "    if self.length == 0: # corner case in which the list is empty\n",
    "      return None\n",
    "\n",
    "    temp = self.tail\n",
    "\n",
    "    if self.length == 1: #corner case in which the list has only one element\n",
    "      self.head = None\n",
    "      self.tail = None\n",
    "\n",
    "    else:\n",
    "      self.tail = temp.prev\n",
    "      self.tail.next = None\n",
    "      temp.prev = None\n",
    "\n",
    "    self.length -= 1\n",
    "\n",
    "    return temp\n",
    "\n",
    "  #Pop an element and raise an exception if the DLL is empty.\n",
    "  def pop_we(self):\n",
    "    if self.length == 0:\n",
    "      raise Exception('Error: Attempted to pop from an empty DLL.')\n",
    "    temp = self.tail\n",
    "    if self.length == 1:\n",
    "      self.head = None\n",
    "      self.tail = None\n",
    "    else:\n",
    "      self.tail = self.tail.prev\n",
    "      self.tail.next = None\n",
    "      temp.prev = None\n",
    "    self.length -= 1\n",
    "    return temp\n",
    "\n",
    "  # Add an element at the beginning of a doubply linked list\n",
    "  def prepend(self,data):\n",
    "    new_node = Node(data)\n",
    "\n",
    "    if self.length == 0: # corner case in which the list is empty\n",
    "      self.head = new_node\n",
    "      self.tail = new_node\n",
    "\n",
    "    else:\n",
    "      self.head.prev = new_node\n",
    "      new_node.next = self.head\n",
    "      self.head = new_node\n",
    "\n",
    "    self.length += 1\n",
    "\n",
    "  def pop_first(self):\n",
    "    if self.length == 0: # corner case in which the list is empty\n",
    "      return None\n",
    "\n",
    "    temp = self.head\n",
    "    if self.length == 1: #corner case in which the list has only one element\n",
    "      self.head = None\n",
    "      self.tail = None\n",
    "\n",
    "    else:\n",
    "      self.head = temp.next\n",
    "      self.head.prev = None\n",
    "      temp.next = None\n",
    "\n",
    "    self.length -= 1\n",
    "\n",
    "    return temp\n",
    "\n",
    "  def get(self, index):\n",
    "    if index < 0 or index >= self.length:\n",
    "      return None\n",
    "    temp = self.head\n",
    "    for i in range(index):\n",
    "      temp = temp.next\n",
    "    return temp\n",
    "\n",
    "  def set_value(self, index, data):\n",
    "    temp = self.get(index)\n",
    "    if temp is not None:\n",
    "      temp.data = data\n",
    "\n",
    "  # insert the value data at the left of the element with a given index index\n",
    "  def insert(self, index, data):\n",
    "    if index < 0 or index > self.length:\n",
    "      raise IndexError('Index out of Bounds') #does not make sense to return None\n",
    "    if index == 0:\n",
    "      self.prepend(data)\n",
    "    elif index == self.length: #the last element has index n-1, so I want to insert the new element on the right of the last one\n",
    "      self.append(data)\n",
    "    else:\n",
    "      u = Node(data)\n",
    "      before = self.get(index-1) # previously defined\n",
    "      after = before.next\n",
    "      u.next=after\n",
    "      u.prev=before\n",
    "      after.prev=u\n",
    "      before.next=u\n",
    "      self.length+=1\n",
    "\n",
    "  def remove(self, index):\n",
    "    if index < 0 or index >= self.length:\n",
    "      return None  # alternatively raise an exception\n",
    "    if index == 0:\n",
    "      return self.pop_first() # previously defined\n",
    "    elif index == self.length-1:\n",
    "      return self.pop() # previously defined\n",
    "    else:\n",
    "      temp = self.get(index) # previously defined\n",
    "\n",
    "      before = temp.prev\n",
    "      after = temp.next\n",
    "      before.next = after\n",
    "      after.prev = before\n",
    "      temp.prev = None\n",
    "      temp.next = None\n",
    "\n",
    "      self.length-=1\n",
    "      return temp\n",
    "\n",
    "\n",
    "  def search(self, data):\n",
    "    if self.length == 0:\n",
    "        return None  # alternatively raise an exception\n",
    "    temp = self.head\n",
    "    for i in range(self.length):\n",
    "        if temp.data == data:\n",
    "            return i\n",
    "        temp = temp.next\n",
    "    return None"
   ]
  },
  {
   "cell_type": "markdown",
   "metadata": {
    "id": "VeoVF_uwgM-h"
   },
   "source": [
    "Instantiating a doubly linked list and showing that no elements are present:"
   ]
  },
  {
   "cell_type": "code",
   "execution_count": 6,
   "metadata": {
    "colab": {
     "base_uri": "https://localhost:8080/",
     "height": 0
    },
    "executionInfo": {
     "elapsed": 753,
     "status": "ok",
     "timestamp": 1727519476920,
     "user": {
      "displayName": "Andrea Pozzi",
      "userId": "14271893929506141932"
     },
     "user_tz": -120
    },
    "id": "gYNEHUSheY9P",
    "outputId": "d0d90bb7-b5af-4734-ce38-938b351eef91"
   },
   "outputs": [
    {
     "name": "stdout",
     "output_type": "stream",
     "text": [
      "[]\n"
     ]
    }
   ],
   "source": [
    "dll = DoublyLinkedList()\n",
    "dll.print()"
   ]
  },
  {
   "cell_type": "markdown",
   "metadata": {
    "id": "kdAVxSsygUF-"
   },
   "source": [
    "Adding the numbers from 0 to 4 as elements in the list:\n",
    "\n",
    "\n"
   ]
  },
  {
   "cell_type": "code",
   "execution_count": 7,
   "metadata": {
    "colab": {
     "base_uri": "https://localhost:8080/",
     "height": 0
    },
    "executionInfo": {
     "elapsed": 8,
     "status": "ok",
     "timestamp": 1727519476920,
     "user": {
      "displayName": "Andrea Pozzi",
      "userId": "14271893929506141932"
     },
     "user_tz": -120
    },
    "id": "Vhjr4KFuebBF",
    "outputId": "c73354a5-e85c-49ee-ed04-ebfaa795fced"
   },
   "outputs": [
    {
     "name": "stdout",
     "output_type": "stream",
     "text": [
      "[0, 1, 2, 3, 4, ]\n"
     ]
    }
   ],
   "source": [
    "n = 5\n",
    "for i in range(n):\n",
    "  dll.append(i)\n",
    "print(dll)"
   ]
  },
  {
   "cell_type": "markdown",
   "metadata": {
    "id": "PWoAOPyxjNUY"
   },
   "source": [
    "Removing an element from the end of the list:"
   ]
  },
  {
   "cell_type": "code",
   "execution_count": 8,
   "metadata": {
    "colab": {
     "base_uri": "https://localhost:8080/",
     "height": 0
    },
    "executionInfo": {
     "elapsed": 8,
     "status": "ok",
     "timestamp": 1727519476921,
     "user": {
      "displayName": "Andrea Pozzi",
      "userId": "14271893929506141932"
     },
     "user_tz": -120
    },
    "id": "WsP9UFhkeb6l",
    "outputId": "2d1babd1-9e88-4701-e18e-b86a4032ae67"
   },
   "outputs": [
    {
     "name": "stdout",
     "output_type": "stream",
     "text": [
      "We removed the element 4. The list is now composed by:\n",
      "[0, 1, 2, 3, ]\n"
     ]
    }
   ],
   "source": [
    "popped_element = dll.pop()\n",
    "print(f'We removed the element {popped_element.data}. The list is now composed by:')\n",
    "print(dll)"
   ]
  },
  {
   "cell_type": "markdown",
   "metadata": {
    "id": "P1Q8KUQzjZAs"
   },
   "source": [
    "Adding elements at the beginning of a list:"
   ]
  },
  {
   "cell_type": "code",
   "execution_count": 9,
   "metadata": {
    "colab": {
     "base_uri": "https://localhost:8080/",
     "height": 0
    },
    "executionInfo": {
     "elapsed": 7,
     "status": "ok",
     "timestamp": 1727519476921,
     "user": {
      "displayName": "Andrea Pozzi",
      "userId": "14271893929506141932"
     },
     "user_tz": -120
    },
    "id": "h-HIUfgShUcF",
    "outputId": "26a62ace-dc6f-4867-be07-155dabaf903b"
   },
   "outputs": [
    {
     "name": "stdout",
     "output_type": "stream",
     "text": [
      "[54, 0, 1, 2, 3, ]\n"
     ]
    }
   ],
   "source": [
    "dll.prepend(54)\n",
    "print(dll)"
   ]
  },
  {
   "cell_type": "markdown",
   "metadata": {
    "id": "w9ggBCYJmgci"
   },
   "source": [
    "Removing elements at the beginning of a list:"
   ]
  },
  {
   "cell_type": "code",
   "execution_count": 10,
   "metadata": {
    "colab": {
     "base_uri": "https://localhost:8080/",
     "height": 0
    },
    "executionInfo": {
     "elapsed": 7,
     "status": "ok",
     "timestamp": 1727519476921,
     "user": {
      "displayName": "Andrea Pozzi",
      "userId": "14271893929506141932"
     },
     "user_tz": -120
    },
    "id": "W0Fyf2jsjF4m",
    "outputId": "0e02e63d-4a97-40da-c710-e934e57d543d"
   },
   "outputs": [
    {
     "name": "stdout",
     "output_type": "stream",
     "text": [
      "We removed the element 54 from the beginning of the list.\n",
      "The list is now composed by:\n",
      "[0, 1, 2, 3, ]\n"
     ]
    }
   ],
   "source": [
    "popped_element = dll.pop_first()\n",
    "print(f'We removed the element {popped_element.data} from the beginning of the list.\\nThe list is now composed by:')\n",
    "print(dll)"
   ]
  },
  {
   "cell_type": "markdown",
   "metadata": {
    "id": "U8eVcRjypFm9"
   },
   "source": [
    "Get an element by its index:"
   ]
  },
  {
   "cell_type": "code",
   "execution_count": 11,
   "metadata": {
    "colab": {
     "base_uri": "https://localhost:8080/",
     "height": 0
    },
    "executionInfo": {
     "elapsed": 6,
     "status": "ok",
     "timestamp": 1727519476921,
     "user": {
      "displayName": "Andrea Pozzi",
      "userId": "14271893929506141932"
     },
     "user_tz": -120
    },
    "id": "qFJ0psVPlOK0",
    "outputId": "76f8b99b-0af6-458d-e927-73dd485f0bab"
   },
   "outputs": [
    {
     "name": "stdout",
     "output_type": "stream",
     "text": [
      "The element in position 2 is : 2\n"
     ]
    }
   ],
   "source": [
    "i = 2\n",
    "node = dll.get(i)\n",
    "print(f'The element in position {i} is : {node.data}')"
   ]
  },
  {
   "cell_type": "markdown",
   "metadata": {
    "id": "q9RWeouTvNiT"
   },
   "source": [
    "Modify the value of an element by its index:"
   ]
  },
  {
   "cell_type": "code",
   "execution_count": 12,
   "metadata": {
    "colab": {
     "base_uri": "https://localhost:8080/",
     "height": 0
    },
    "executionInfo": {
     "elapsed": 5,
     "status": "ok",
     "timestamp": 1727519476921,
     "user": {
      "displayName": "Andrea Pozzi",
      "userId": "14271893929506141932"
     },
     "user_tz": -120
    },
    "id": "yxCmyk5tpOMM",
    "outputId": "11eb99a6-8c8e-42a1-f5dc-cb41f5b30865"
   },
   "outputs": [
    {
     "name": "stdout",
     "output_type": "stream",
     "text": [
      "[0, 1, 46, 3, ]\n"
     ]
    }
   ],
   "source": [
    "i = 2\n",
    "data = 46\n",
    "node = dll.set_value(i, data)\n",
    "print(dll)"
   ]
  },
  {
   "cell_type": "markdown",
   "metadata": {
    "id": "dZIMql3yvQkN"
   },
   "source": [
    "Search an element by its value:"
   ]
  },
  {
   "cell_type": "code",
   "execution_count": 13,
   "metadata": {
    "colab": {
     "base_uri": "https://localhost:8080/",
     "height": 0
    },
    "executionInfo": {
     "elapsed": 4,
     "status": "ok",
     "timestamp": 1727519476921,
     "user": {
      "displayName": "Andrea Pozzi",
      "userId": "14271893929506141932"
     },
     "user_tz": -120
    },
    "id": "5_9kTDutqYEM",
    "outputId": "337c3ee6-1b31-42ec-8132-306d4275bc55"
   },
   "outputs": [
    {
     "name": "stdout",
     "output_type": "stream",
     "text": [
      "The element 46 is in position 2\n"
     ]
    }
   ],
   "source": [
    "data = 46\n",
    "index = dll.search(data)\n",
    "print(f'The element {data} is in position {index}')"
   ]
  },
  {
   "cell_type": "markdown",
   "metadata": {
    "id": "SQx-S29dvUqP"
   },
   "source": [
    "Insert an element such that after the insertion it will get a desired index:"
   ]
  },
  {
   "cell_type": "code",
   "execution_count": 14,
   "metadata": {
    "colab": {
     "base_uri": "https://localhost:8080/",
     "height": 0
    },
    "executionInfo": {
     "elapsed": 4,
     "status": "ok",
     "timestamp": 1727519476921,
     "user": {
      "displayName": "Andrea Pozzi",
      "userId": "14271893929506141932"
     },
     "user_tz": -120
    },
    "id": "00pfjvGfroJM",
    "outputId": "c3a93a35-4258-4047-80ff-d861ce71f46b"
   },
   "outputs": [
    {
     "name": "stdout",
     "output_type": "stream",
     "text": [
      "[0, 1, 78, 46, 3, ]\n"
     ]
    }
   ],
   "source": [
    "dll.insert(2, 78)\n",
    "print(dll)"
   ]
  },
  {
   "cell_type": "markdown",
   "metadata": {
    "id": "z3_udvVBvYJe"
   },
   "source": [
    "Remove the element with a specific index:"
   ]
  },
  {
   "cell_type": "code",
   "execution_count": 15,
   "metadata": {
    "colab": {
     "base_uri": "https://localhost:8080/",
     "height": 0
    },
    "executionInfo": {
     "elapsed": 3,
     "status": "ok",
     "timestamp": 1727519476921,
     "user": {
      "displayName": "Andrea Pozzi",
      "userId": "14271893929506141932"
     },
     "user_tz": -120
    },
    "id": "s-MA6rdzuHqm",
    "outputId": "e6fa9f9d-40c6-4279-c5af-85d614baaa82"
   },
   "outputs": [
    {
     "name": "stdout",
     "output_type": "stream",
     "text": [
      "We removed the element 78 from the beginning of the list.\n",
      "The list is now composed by:\n",
      "[0, 1, 46, 3, ]\n"
     ]
    }
   ],
   "source": [
    "popped_element = dll.remove(2)\n",
    "print(f'We removed the element {popped_element.data} from the beginning of the list.\\nThe list is now composed by:')\n",
    "print(dll)"
   ]
  },
  {
   "cell_type": "markdown",
   "metadata": {
    "id": "a1CVnCh8MNBv"
   },
   "source": [
    "# **Private and Protected Attributes**"
   ]
  },
  {
   "cell_type": "code",
   "execution_count": 17,
   "metadata": {
    "colab": {
     "base_uri": "https://localhost:8080/",
     "height": 220
    },
    "executionInfo": {
     "elapsed": 364,
     "status": "error",
     "timestamp": 1727519622583,
     "user": {
      "displayName": "Andrea Pozzi",
      "userId": "14271893929506141932"
     },
     "user_tz": -120
    },
    "id": "mNwOmh3YMO8m",
    "outputId": "d7260f33-6295-41b1-9fe6-ab82df6ec25e"
   },
   "outputs": [
    {
     "name": "stdout",
     "output_type": "stream",
     "text": [
      "10\n",
      "20\n"
     ]
    },
    {
     "ename": "AttributeError",
     "evalue": "'Example' object has no attribute '__private_attribute'",
     "output_type": "error",
     "traceback": [
      "\u001b[0;31m---------------------------------------------------------------------------\u001b[0m",
      "\u001b[0;31mAttributeError\u001b[0m                            Traceback (most recent call last)",
      "\u001b[0;32m<ipython-input-17-8f07fab8b90c>\u001b[0m in \u001b[0;36m<cell line: 16>\u001b[0;34m()\u001b[0m\n\u001b[1;32m     14\u001b[0m \u001b[0mprint\u001b[0m\u001b[0;34m(\u001b[0m\u001b[0mobj\u001b[0m\u001b[0;34m.\u001b[0m\u001b[0mget_private_attribute\u001b[0m\u001b[0;34m(\u001b[0m\u001b[0;34m)\u001b[0m\u001b[0;34m)\u001b[0m  \u001b[0;31m# Outputs: 20\u001b[0m\u001b[0;34m\u001b[0m\u001b[0;34m\u001b[0m\u001b[0m\n\u001b[1;32m     15\u001b[0m \u001b[0;34m\u001b[0m\u001b[0m\n\u001b[0;32m---> 16\u001b[0;31m \u001b[0mprint\u001b[0m\u001b[0;34m(\u001b[0m\u001b[0mobj\u001b[0m\u001b[0;34m.\u001b[0m\u001b[0m__private_attribute\u001b[0m\u001b[0;34m)\u001b[0m  \u001b[0;31m# Raises an AttributeError!\u001b[0m\u001b[0;34m\u001b[0m\u001b[0;34m\u001b[0m\u001b[0m\n\u001b[0m",
      "\u001b[0;31mAttributeError\u001b[0m: 'Example' object has no attribute '__private_attribute'"
     ]
    }
   ],
   "source": [
    "class Example:\n",
    "  def __init__(self, value):\n",
    "      self.__private_attribute = value  # Private attribute\n",
    "\n",
    "  def get_private_attribute(self):\n",
    "      return self.__private_attribute  # Access method\n",
    "\n",
    "  def set_private_attribute(self, value):\n",
    "      self.__private_attribute = value  # Modifying method\n",
    "\n",
    "obj = Example(10)\n",
    "print(obj.get_private_attribute())  # Outputs: 10\n",
    "obj.set_private_attribute(20)\n",
    "print(obj.get_private_attribute())  # Outputs: 20\n",
    "\n",
    "print(obj.__private_attribute)  # Raises an AttributeError!"
   ]
  },
  {
   "cell_type": "code",
   "execution_count": 18,
   "metadata": {
    "colab": {
     "base_uri": "https://localhost:8080/",
     "height": 0
    },
    "executionInfo": {
     "elapsed": 596,
     "status": "ok",
     "timestamp": 1727519665812,
     "user": {
      "displayName": "Andrea Pozzi",
      "userId": "14271893929506141932"
     },
     "user_tz": -120
    },
    "id": "m8XT42IBMWS4",
    "outputId": "2bd63ba3-77bc-4f3a-b6c7-64bd1ecf4847"
   },
   "outputs": [
    {
     "name": "stdout",
     "output_type": "stream",
     "text": [
      "10\n",
      "20\n",
      "20\n"
     ]
    }
   ],
   "source": [
    "class Example:\n",
    "  def __init__(self, value):\n",
    "      self._protected_attribute = value  # Protected attribute\n",
    "\n",
    "  def get_protected_attribute(self):\n",
    "      return self._protected_attribute   # Access method\n",
    "\n",
    "  def set_protected_attribute(self, value):\n",
    "      self._protected_attribute = value  # Modifying method\n",
    "\n",
    "obj = Example(10)\n",
    "print(obj.get_protected_attribute())  # Outputs: 10\n",
    "obj.set_protected_attribute(20)\n",
    "print(obj.get_protected_attribute())  # Outputs: 20\n",
    "\n",
    "print(obj._protected_attribute)  # Accessible, but not recommended"
   ]
  }
 ],
 "metadata": {
  "colab": {
   "provenance": []
  },
  "kernelspec": {
   "display_name": "Python 3",
   "name": "python3"
  },
  "language_info": {
   "name": "python"
  }
 },
 "nbformat": 4,
 "nbformat_minor": 0
}
